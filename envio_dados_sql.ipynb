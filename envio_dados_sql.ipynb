{
 "cells": [
  {
   "cell_type": "code",
   "execution_count": 50,
   "id": "5193b66c-5187-453c-920b-536d24314362",
   "metadata": {
    "tags": []
   },
   "outputs": [],
   "source": [
    "import pandas as pd\n",
    "import pyodbc\n",
    "import logging\n",
    "import math\n"
   ]
  },
  {
   "cell_type": "code",
   "execution_count": 159,
   "id": "d393c8b4-19d3-4819-9a9d-9de0a40fef48",
   "metadata": {
    "tags": []
   },
   "outputs": [
    {
     "name": "stderr",
     "output_type": "stream",
     "text": [
      "C:\\Users\\rwmac\\AppData\\Local\\Temp\\ipykernel_2788\\3411498283.py:2: DtypeWarning: Columns (10) have mixed types. Specify dtype option on import or set low_memory=False.\n",
      "  df = pd.read_csv('BASE_MENSAL.csv', sep=\";\")\n"
     ]
    }
   ],
   "source": [
    "# Leitura do arquivo CSV com pandas\n",
    "df = pd.read_csv('BASE_MENSAL.csv', sep=\";\")"
   ]
  },
  {
   "cell_type": "code",
   "execution_count": 160,
   "id": "481e3d20-2b21-43c8-a6e7-462e5e2b2151",
   "metadata": {
    "tags": []
   },
   "outputs": [],
   "source": [
    "# Substituir a string \"NUUL\" por valores nulos (None)\n",
    "df.replace('NULL', None, inplace=True)"
   ]
  },
  {
   "cell_type": "code",
   "execution_count": 163,
   "id": "6d019545-0ec5-468b-811f-d0aa99abdf54",
   "metadata": {
    "tags": []
   },
   "outputs": [],
   "source": [
    "# Converter a data no formato adequado, definindo dayfirst=True para interpretar dd/mm/aaaa\n",
    "df['dt_conce'] = pd.to_datetime(df['dt_conce'], errors='coerce', dayfirst=True)\n",
    "df['dt_mov'] = pd.to_datetime(df['dt_mov'], errors='coerce', dayfirst=True)\n"
   ]
  },
  {
   "cell_type": "code",
   "execution_count": 169,
   "id": "52854f1f-c2cd-4d45-a841-b42070c7dcc8",
   "metadata": {
    "tags": []
   },
   "outputs": [],
   "source": [
    "colunas=df.columns"
   ]
  },
  {
   "cell_type": "code",
   "execution_count": 171,
   "id": "781a2ae9-139a-4b17-8ed4-ac9bc0af2090",
   "metadata": {
    "tags": []
   },
   "outputs": [
    {
     "name": "stdout",
     "output_type": "stream",
     "text": [
      "<class 'pandas.core.frame.DataFrame'>\n",
      "RangeIndex: 100000 entries, 0 to 99999\n",
      "Data columns (total 34 columns):\n",
      " #   Column                  Non-Null Count   Dtype         \n",
      "---  ------                  --------------   -----         \n",
      " 0   ctr                     100000 non-null  object        \n",
      " 1   co_ope                  100000 non-null  int64         \n",
      " 2   cpf_cnpj                100000 non-null  object        \n",
      " 3   ic_caixa                100000 non-null  int64         \n",
      " 4   tp_pessoa               100000 non-null  int64         \n",
      " 5   co_sis                  100000 non-null  int64         \n",
      " 6   unidade                 100000 non-null  int64         \n",
      " 7   co_ag_relac             100000 non-null  int64         \n",
      " 8   dt_conce                100000 non-null  datetime64[ns]\n",
      " 9   DD_VENCIMENTO_CONTRATO  1289 non-null    float64       \n",
      " 10  vlr_conce               100000 non-null  object        \n",
      " 11  posicao                 100000 non-null  int64         \n",
      " 12  da_ini                  100000 non-null  int64         \n",
      " 13  dt_mov                  100000 non-null  datetime64[ns]\n",
      " 14  da_atual                100000 non-null  int64         \n",
      " 15  nu_tabela_atual         99826 non-null   float64       \n",
      " 16  base_calculo            100000 non-null  object        \n",
      " 17  rat_prov                100000 non-null  object        \n",
      " 18  rat_hh                  100000 non-null  int64         \n",
      " 19  co_mod                  0 non-null       float64       \n",
      " 20  cart                    100000 non-null  object        \n",
      " 21  co_cart                 99993 non-null   object        \n",
      " 22  co_seg                  100000 non-null  int64         \n",
      " 23  no_seg                  100000 non-null  object        \n",
      " 24  co_segger               100000 non-null  int64         \n",
      " 25  co_segger_gp            100000 non-null  int64         \n",
      " 26  co_segad                36229 non-null   object        \n",
      " 27  rat_h5                  532 non-null     float64       \n",
      " 28  rat_h6                  532 non-null     float64       \n",
      " 29  ic_atacado              100000 non-null  int64         \n",
      " 30  ic_reg                  100000 non-null  int64         \n",
      " 31  ic_rj                   100000 non-null  int64         \n",
      " 32  ic_honrado              100000 non-null  int64         \n",
      " 33  am_honrado              0 non-null       float64       \n",
      "dtypes: datetime64[ns](2), float64(6), int64(17), object(9)\n",
      "memory usage: 25.9+ MB\n"
     ]
    }
   ],
   "source": [
    "df.info()"
   ]
  },
  {
   "cell_type": "code",
   "execution_count": 120,
   "id": "01cfc7ad-dff0-48ed-8d3f-5cf047041898",
   "metadata": {
    "tags": []
   },
   "outputs": [
    {
     "data": {
      "text/html": [
       "<div>\n",
       "<style scoped>\n",
       "    .dataframe tbody tr th:only-of-type {\n",
       "        vertical-align: middle;\n",
       "    }\n",
       "\n",
       "    .dataframe tbody tr th {\n",
       "        vertical-align: top;\n",
       "    }\n",
       "\n",
       "    .dataframe thead th {\n",
       "        text-align: right;\n",
       "    }\n",
       "</style>\n",
       "<table border=\"1\" class=\"dataframe\">\n",
       "  <thead>\n",
       "    <tr style=\"text-align: right;\">\n",
       "      <th></th>\n",
       "      <th>ctr</th>\n",
       "      <th>co_ope</th>\n",
       "      <th>cpf_cnpj</th>\n",
       "      <th>ic_caixa</th>\n",
       "      <th>tp_pessoa</th>\n",
       "      <th>co_sis</th>\n",
       "      <th>unidade</th>\n",
       "      <th>co_ag_relac</th>\n",
       "      <th>dt_conce</th>\n",
       "      <th>DD_VENCIMENTO_CONTRATO</th>\n",
       "      <th>...</th>\n",
       "      <th>co_segger</th>\n",
       "      <th>co_segger_gp</th>\n",
       "      <th>co_segad</th>\n",
       "      <th>rat_h5</th>\n",
       "      <th>rat_h6</th>\n",
       "      <th>ic_atacado</th>\n",
       "      <th>ic_reg</th>\n",
       "      <th>ic_rj</th>\n",
       "      <th>ic_honrado</th>\n",
       "      <th>am_honrado</th>\n",
       "    </tr>\n",
       "  </thead>\n",
       "  <tbody>\n",
       "    <tr>\n",
       "      <th>0</th>\n",
       "      <td>C12C9D8B-0A10-4239-8B0D-A0962CFA02D2</td>\n",
       "      <td>2195</td>\n",
       "      <td>1AFF1F54-ADE6-4FB9-808C-54F4E14A2A92</td>\n",
       "      <td>1</td>\n",
       "      <td>1</td>\n",
       "      <td>3196</td>\n",
       "      <td>3392</td>\n",
       "      <td>3392</td>\n",
       "      <td>2023-05-17</td>\n",
       "      <td>NaN</td>\n",
       "      <td>...</td>\n",
       "      <td>3</td>\n",
       "      <td>11</td>\n",
       "      <td>FV4</td>\n",
       "      <td>NaN</td>\n",
       "      <td>NaN</td>\n",
       "      <td>0</td>\n",
       "      <td>0</td>\n",
       "      <td>0</td>\n",
       "      <td>0</td>\n",
       "      <td>NaN</td>\n",
       "    </tr>\n",
       "    <tr>\n",
       "      <th>1</th>\n",
       "      <td>F73EAEEE-F939-45F1-902B-1B6833127851</td>\n",
       "      <td>2195</td>\n",
       "      <td>4550C543-1E3A-4BBA-B9D7-AD8929CD71B5</td>\n",
       "      <td>1</td>\n",
       "      <td>1</td>\n",
       "      <td>3196</td>\n",
       "      <td>1623</td>\n",
       "      <td>1623</td>\n",
       "      <td>2023-06-09</td>\n",
       "      <td>NaN</td>\n",
       "      <td>...</td>\n",
       "      <td>3</td>\n",
       "      <td>11</td>\n",
       "      <td>FV3</td>\n",
       "      <td>NaN</td>\n",
       "      <td>NaN</td>\n",
       "      <td>0</td>\n",
       "      <td>0</td>\n",
       "      <td>0</td>\n",
       "      <td>0</td>\n",
       "      <td>NaN</td>\n",
       "    </tr>\n",
       "    <tr>\n",
       "      <th>2</th>\n",
       "      <td>20DBFC8B-AB57-48E7-9B64-31F6697C8B4E</td>\n",
       "      <td>2195</td>\n",
       "      <td>EB48AD46-8DA5-4E71-A24C-E4F0A4C3DFA3</td>\n",
       "      <td>1</td>\n",
       "      <td>1</td>\n",
       "      <td>3196</td>\n",
       "      <td>24</td>\n",
       "      <td>24</td>\n",
       "      <td>2023-06-23</td>\n",
       "      <td>NaN</td>\n",
       "      <td>...</td>\n",
       "      <td>3</td>\n",
       "      <td>11</td>\n",
       "      <td>FV3</td>\n",
       "      <td>NaN</td>\n",
       "      <td>NaN</td>\n",
       "      <td>0</td>\n",
       "      <td>0</td>\n",
       "      <td>0</td>\n",
       "      <td>0</td>\n",
       "      <td>NaN</td>\n",
       "    </tr>\n",
       "    <tr>\n",
       "      <th>3</th>\n",
       "      <td>DCCAB84E-D999-46E2-A6B7-EA2C6A0ECC26</td>\n",
       "      <td>2195</td>\n",
       "      <td>D4D1AEE3-8BD5-406E-B421-B291707D60A9</td>\n",
       "      <td>1</td>\n",
       "      <td>1</td>\n",
       "      <td>3196</td>\n",
       "      <td>511</td>\n",
       "      <td>511</td>\n",
       "      <td>2023-05-17</td>\n",
       "      <td>NaN</td>\n",
       "      <td>...</td>\n",
       "      <td>3</td>\n",
       "      <td>11</td>\n",
       "      <td>FV4</td>\n",
       "      <td>NaN</td>\n",
       "      <td>NaN</td>\n",
       "      <td>0</td>\n",
       "      <td>0</td>\n",
       "      <td>0</td>\n",
       "      <td>0</td>\n",
       "      <td>NaN</td>\n",
       "    </tr>\n",
       "    <tr>\n",
       "      <th>4</th>\n",
       "      <td>58952E5B-2FB8-4A8F-9E54-F5F49A48753C</td>\n",
       "      <td>2195</td>\n",
       "      <td>91D8052C-B717-4AA6-8753-7D17D6FCC1C7</td>\n",
       "      <td>1</td>\n",
       "      <td>1</td>\n",
       "      <td>3196</td>\n",
       "      <td>2871</td>\n",
       "      <td>2871</td>\n",
       "      <td>2023-05-17</td>\n",
       "      <td>NaN</td>\n",
       "      <td>...</td>\n",
       "      <td>3</td>\n",
       "      <td>11</td>\n",
       "      <td>HV5</td>\n",
       "      <td>NaN</td>\n",
       "      <td>NaN</td>\n",
       "      <td>0</td>\n",
       "      <td>0</td>\n",
       "      <td>0</td>\n",
       "      <td>0</td>\n",
       "      <td>NaN</td>\n",
       "    </tr>\n",
       "  </tbody>\n",
       "</table>\n",
       "<p>5 rows × 34 columns</p>\n",
       "</div>"
      ],
      "text/plain": [
       "                                    ctr  co_ope  \\\n",
       "0  C12C9D8B-0A10-4239-8B0D-A0962CFA02D2    2195   \n",
       "1  F73EAEEE-F939-45F1-902B-1B6833127851    2195   \n",
       "2  20DBFC8B-AB57-48E7-9B64-31F6697C8B4E    2195   \n",
       "3  DCCAB84E-D999-46E2-A6B7-EA2C6A0ECC26    2195   \n",
       "4  58952E5B-2FB8-4A8F-9E54-F5F49A48753C    2195   \n",
       "\n",
       "                               cpf_cnpj  ic_caixa  tp_pessoa  co_sis  unidade  \\\n",
       "0  1AFF1F54-ADE6-4FB9-808C-54F4E14A2A92         1          1    3196     3392   \n",
       "1  4550C543-1E3A-4BBA-B9D7-AD8929CD71B5         1          1    3196     1623   \n",
       "2  EB48AD46-8DA5-4E71-A24C-E4F0A4C3DFA3         1          1    3196       24   \n",
       "3  D4D1AEE3-8BD5-406E-B421-B291707D60A9         1          1    3196      511   \n",
       "4  91D8052C-B717-4AA6-8753-7D17D6FCC1C7         1          1    3196     2871   \n",
       "\n",
       "   co_ag_relac   dt_conce  DD_VENCIMENTO_CONTRATO  ...  co_segger  \\\n",
       "0         3392 2023-05-17                     NaN  ...          3   \n",
       "1         1623 2023-06-09                     NaN  ...          3   \n",
       "2           24 2023-06-23                     NaN  ...          3   \n",
       "3          511 2023-05-17                     NaN  ...          3   \n",
       "4         2871 2023-05-17                     NaN  ...          3   \n",
       "\n",
       "   co_segger_gp  co_segad rat_h5  rat_h6  ic_atacado  ic_reg ic_rj  \\\n",
       "0            11       FV4    NaN     NaN           0       0     0   \n",
       "1            11       FV3    NaN     NaN           0       0     0   \n",
       "2            11       FV3    NaN     NaN           0       0     0   \n",
       "3            11       FV4    NaN     NaN           0       0     0   \n",
       "4            11       HV5    NaN     NaN           0       0     0   \n",
       "\n",
       "   ic_honrado  am_honrado  \n",
       "0           0         NaN  \n",
       "1           0         NaN  \n",
       "2           0         NaN  \n",
       "3           0         NaN  \n",
       "4           0         NaN  \n",
       "\n",
       "[5 rows x 34 columns]"
      ]
     },
     "execution_count": 120,
     "metadata": {},
     "output_type": "execute_result"
    }
   ],
   "source": [
    "df.head()"
   ]
  },
  {
   "cell_type": "code",
   "execution_count": 122,
   "id": "db5636da-7d94-439e-bb57-8360ded710da",
   "metadata": {
    "tags": []
   },
   "outputs": [
    {
     "data": {
      "text/plain": [
       "Index(['ctr', 'co_ope', 'cpf_cnpj', 'ic_caixa', 'tp_pessoa', 'co_sis',\n",
       "       'unidade', 'co_ag_relac', 'dt_conce', 'DD_VENCIMENTO_CONTRATO',\n",
       "       'vlr_conce', 'posicao', 'da_ini', 'dt_mov', 'da_atual',\n",
       "       'nu_tabela_atual', 'base_calculo', 'rat_prov', 'rat_hh', 'co_mod',\n",
       "       'cart', 'co_cart', 'co_seg', 'no_seg', 'co_segger', 'co_segger_gp',\n",
       "       'co_segad', 'rat_h5', 'rat_h6', 'ic_atacado', 'ic_reg', 'ic_rj',\n",
       "       'ic_honrado', 'am_honrado'],\n",
       "      dtype='object')"
      ]
     },
     "execution_count": 122,
     "metadata": {},
     "output_type": "execute_result"
    }
   ],
   "source": [
    "colunas"
   ]
  },
  {
   "cell_type": "markdown",
   "id": "51fedb92-b4cb-4c71-8d85-d4093d78f6f6",
   "metadata": {
    "tags": []
   },
   "source": [
    "# Verifique se a tabela BaseMensalTemp existe, caso contrário crie\n",
    "create_table_query = '''\n",
    "CREATE TABLE BaseMensalTemp (\n",
    "    ctr                VARCHAR(255) NULL,\n",
    "    co_ope             CHAR(4) NULL,\n",
    "    cpf_cnpj           VARCHAR(255) NULL,\n",
    "    ic_caixa           INT NULL,\n",
    "    tp_pessoa          CHAR(4) NULL,\n",
    "    co_sis             CHAR(4) NULL,\n",
    "    unidade            CHAR(4) NULL,\n",
    "    co_ag_relac        CHAR(4) NULL,\n",
    "    dt_conce           DATE NULL,\n",
    "    DD_VENCIMENTO_CONTRATO INT NULL,\n",
    "    vlr_conce          DECIMAL(18, 2) NULL,\n",
    "    posicao            INT NULL,\n",
    "    da_ini             INT NULL,\n",
    "    dt_mov             DATE NULL,\n",
    "    da_atual           INT NULL,\n",
    "    nu_tabela_atual    INT NULL,\n",
    "    base_calculo       DECIMAL(18, 2) NULL,\n",
    "    rat_prov           VARCHAR(255) NULL,\n",
    "    rat_hh             BIT NULL,         \n",
    "    co_mod             VARCHAR(255) NULL,\n",
    "    cart               VARCHAR(255) NULL,\n",
    "    co_cart            CHAR(4) NULL,     \n",
    "    co_seg             INT NULL,\n",
    "    no_seg             VARCHAR(6) NULL,  \n",
    "    co_segger          INT NULL,\n",
    "    co_segger_gp       INT NULL,\n",
    "    co_segad           VARCHAR(3) NULL,  \n",
    "    rat_h5             BIT NULL,         \n",
    "    rat_h6             BIT NULL,         \n",
    "    ic_atacado         BIT NULL,         \n",
    "    ic_reg             BIT NULL,         \n",
    "    ic_rj              BIT NULL,         \n",
    "    ic_honrado         BIT NULL,         \n",
    "    am_honrado         BIT NULL\n",
    ");\n",
    "'''\n",
    "\n",
    "# Execute a criação da tabela se não existir\n",
    "cursor.execute(create_table_query)\n",
    "conn.commit()\n",
    "print(\"Tabela BaseMensalTemp criada com sucesso\")\n"
   ]
  },
  {
   "cell_type": "code",
   "execution_count": 149,
   "id": "4979c01d-956d-4f34-a287-2b88862b9990",
   "metadata": {
    "tags": []
   },
   "outputs": [
    {
     "name": "stdout",
     "output_type": "stream",
     "text": [
      "Requirement already satisfied: pandas in c:\\users\\rwmac\\anaconda3\\lib\\site-packages (2.0.3)\n",
      "Requirement already satisfied: sqlalchemy in c:\\users\\rwmac\\anaconda3\\lib\\site-packages (2.0.25)\n",
      "Requirement already satisfied: pyodbc in c:\\users\\rwmac\\anaconda3\\lib\\site-packages (4.0.34)\n",
      "Requirement already satisfied: python-dateutil>=2.8.2 in c:\\users\\rwmac\\anaconda3\\lib\\site-packages (from pandas) (2.8.2)\n",
      "Requirement already satisfied: pytz>=2020.1 in c:\\users\\rwmac\\anaconda3\\lib\\site-packages (from pandas) (2023.3.post1)\n",
      "Requirement already satisfied: tzdata>=2022.1 in c:\\users\\rwmac\\anaconda3\\lib\\site-packages (from pandas) (2023.3)\n",
      "Requirement already satisfied: numpy>=1.21.0 in c:\\users\\rwmac\\anaconda3\\lib\\site-packages (from pandas) (1.23.5)\n",
      "Requirement already satisfied: typing-extensions>=4.6.0 in c:\\users\\rwmac\\anaconda3\\lib\\site-packages (from sqlalchemy) (4.7.1)\n",
      "Requirement already satisfied: greenlet!=0.4.17 in c:\\users\\rwmac\\anaconda3\\lib\\site-packages (from sqlalchemy) (2.0.1)\n",
      "Requirement already satisfied: six>=1.5 in c:\\users\\rwmac\\anaconda3\\lib\\site-packages (from python-dateutil>=2.8.2->pandas) (1.16.0)\n"
     ]
    }
   ],
   "source": [
    "#! pip install pandas sqlalchemy pyodbc\n"
   ]
  },
  {
   "cell_type": "code",
   "execution_count": 185,
   "id": "d0eeebf9-45ce-4d41-ac7e-fcd8f4d52a87",
   "metadata": {
    "tags": []
   },
   "outputs": [],
   "source": [
    "# Função para tratar valores numéricos, substituindo vírgula por ponto\n",
    "def tratar_valores_numericos(valor):\n",
    "    try:\n",
    "        # Substituir vírgula por ponto, se houver, e converter para float\n",
    "        return round(float(valor.replace(',', '.')), 2)\n",
    "    except (ValueError, AttributeError):\n",
    "        return None  # Substitui valores inválidos por None\n"
   ]
  },
  {
   "cell_type": "code",
   "execution_count": 187,
   "id": "7b2573e3-2457-40f5-a705-3bb1e87305a3",
   "metadata": {
    "tags": []
   },
   "outputs": [],
   "source": [
    "# Aplicar o tratamento para as colunas numéricas\n",
    "df['vlr_conce'] = df['vlr_conce'].apply(tratar_valores_numericos)\n",
    "df['base_calculo'] = df['base_calculo'].apply(tratar_valores_numericos)"
   ]
  },
  {
   "cell_type": "code",
   "execution_count": 189,
   "id": "920367a8-0370-4485-88f2-a6e086a6745a",
   "metadata": {
    "tags": []
   },
   "outputs": [
    {
     "name": "stdout",
     "output_type": "stream",
     "text": [
      "Dados inseridos com sucesso.\n"
     ]
    }
   ],
   "source": [
    "import pandas as pd\n",
    "from sqlalchemy import create_engine\n",
    "\n",
    "\n",
    "# Configuração da conexão com o SQL Server usando SQLAlchemy\n",
    "server = 'RENATSPC'\n",
    "database = 'ADIMPLENCIA'\n",
    "driver = 'ODBC Driver 17 for SQL Server'  # Certifique-se de que esse driver está instalado\n",
    "\n",
    "conn_string = f'mssql+pyodbc://@{server}/{database}?driver={driver}&trusted_connection=yes'\n",
    "\n",
    "# Criando a engine de conexão\n",
    "engine = create_engine(conn_string)\n",
    "\n",
    "# Inserindo o DataFrame no SQL Server (ajustar o nome da tabela se necessário)\n",
    "try:\n",
    "    df.to_sql('BaseMensalTemp', con=engine, if_exists='append', index=False)\n",
    "    print(\"Dados inseridos com sucesso.\")\n",
    "except Exception as e:\n",
    "    print(f\"Erro durante a inserção: {e}\")"
   ]
  },
  {
   "cell_type": "code",
   "execution_count": null,
   "id": "db7aeb2b-5d74-43b1-aeb6-3b977277aebb",
   "metadata": {},
   "outputs": [],
   "source": []
  },
  {
   "cell_type": "code",
   "execution_count": null,
   "id": "fbb26f04-3772-454d-80a4-497cfa932698",
   "metadata": {},
   "outputs": [],
   "source": []
  }
 ],
 "metadata": {
  "kernelspec": {
   "display_name": "Python 3 (ipykernel)",
   "language": "python",
   "name": "python3"
  },
  "language_info": {
   "codemirror_mode": {
    "name": "ipython",
    "version": 3
   },
   "file_extension": ".py",
   "mimetype": "text/x-python",
   "name": "python",
   "nbconvert_exporter": "python",
   "pygments_lexer": "ipython3",
   "version": "3.11.5"
  }
 },
 "nbformat": 4,
 "nbformat_minor": 5
}
